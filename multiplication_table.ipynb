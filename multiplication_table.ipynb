{
  "nbformat": 4,
  "nbformat_minor": 0,
  "metadata": {
    "colab": {
      "provenance": [],
      "authorship_tag": "ABX9TyNe4vFqeUOfWniYVSyhC2iI",
      "include_colab_link": true
    },
    "kernelspec": {
      "name": "python3",
      "display_name": "Python 3"
    },
    "language_info": {
      "name": "python"
    }
  },
  "cells": [
    {
      "cell_type": "markdown",
      "metadata": {
        "id": "view-in-github",
        "colab_type": "text"
      },
      "source": [
        "<a href=\"https://colab.research.google.com/github/annie-bw/Python-projects/blob/main/multiplication_table.ipynb\" target=\"_parent\"><img src=\"https://colab.research.google.com/assets/colab-badge.svg\" alt=\"Open In Colab\"/></a>"
      ]
    },
    {
      "cell_type": "code",
      "execution_count": 41,
      "metadata": {
        "colab": {
          "base_uri": "https://localhost:8080/"
        },
        "id": "zlgRo3Nj3gP0",
        "outputId": "7c4b283b-2f84-4590-dc4c-4b83f5bf4ebc"
      },
      "outputs": [
        {
          "output_type": "stream",
          "name": "stdout",
          "text": [
            "     1     2     3     4     5     6     7     8     9    10\n",
            "     2     4     6     8    10    12    14    16    18    20\n",
            "     3     6     9    12    15    18    21    24    27    30\n",
            "     4     8    12    16    20    24    28    32    36    40\n",
            "     5    10    15    20    25    30    35    40    45    50\n",
            "     6    12    18    24    30    36    42    48    54    60\n",
            "     7    14    21    28    35    42    49    56    63    70\n",
            "     8    16    24    32    40    48    56    64    72    80\n",
            "     9    18    27    36    45    54    63    72    81    90\n",
            "    10    20    30    40    50    60    70    80    90   100\n"
          ]
        }
      ],
      "source": [
        "for x in range (1,11) :\n",
        "  for y in range (1,11) :\n",
        "    product = x * y\n",
        "    print (f\"{product:6}\" , end=\"\")\n",
        "  print()\n"
      ]
    },
    {
      "cell_type": "code",
      "source": [
        "number = int(input(\"Enter a number: \"))\n",
        "print (f\"multiplication table of {number} is\")\n",
        "for  i in range(1,11):\n",
        "    product = number * i\n",
        "    print(f\"{number} * {i} = {product}\")\n"
      ],
      "metadata": {
        "colab": {
          "base_uri": "https://localhost:8080/"
        },
        "id": "JpkAQk3V3g-5",
        "outputId": "4703ed6d-c5f1-4065-fd9d-2c8a409b1288"
      },
      "execution_count": 43,
      "outputs": [
        {
          "output_type": "stream",
          "name": "stdout",
          "text": [
            "Enter a number: 4\n",
            "multiplication table of 4 is\n",
            "4 * 1 = 4\n",
            "4 * 2 = 8\n",
            "4 * 3 = 12\n",
            "4 * 4 = 16\n",
            "4 * 5 = 20\n",
            "4 * 6 = 24\n",
            "4 * 7 = 28\n",
            "4 * 8 = 32\n",
            "4 * 9 = 36\n",
            "4 * 10 = 40\n"
          ]
        }
      ]
    }
  ]
}